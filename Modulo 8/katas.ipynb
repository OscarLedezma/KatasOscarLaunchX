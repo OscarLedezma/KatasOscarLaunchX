{
 "cells": [
  {
   "cell_type": "code",
   "execution_count": 15,
   "metadata": {},
   "outputs": [
    {
     "name": "stdout",
     "output_type": "stream",
     "text": [
      "729\n",
      "Jupiter2\n",
      "october: 3.5 cm\n",
      "november: 4.2 cm\n",
      "december: 2.1 cm\n"
     ]
    }
   ],
   "source": [
    "planet = {\n",
    "    'name': 'Earth',\n",
    "    'moons': 1\n",
    "}\n",
    "planet.update({'name': 'Makemake'})\n",
    "planet['name'] = 'Makemake33'\n",
    "\n",
    "planet.update({\n",
    "    'name': 'Jupiter',\n",
    "    'moons': 79\n",
    "})\n",
    "\n",
    "planet['name'] = 'Jupiter2'\n",
    "planet['moons'] = 729\n",
    "\n",
    "planet['orbital period'] = 4333\n",
    "\n",
    "planet.pop('orbital period')\n",
    "\n",
    "print(planet.get('moons'))\n",
    "print(planet['name'])\n",
    "#print(planet['orbital period'])"
   ]
  },
  {
   "cell_type": "code",
   "execution_count": 23,
   "metadata": {},
   "outputs": [
    {
     "name": "stdout",
     "output_type": "stream",
     "text": [
      "There was 9.8cm in the last quarter\n"
     ]
    }
   ],
   "source": [
    "rainfall = {\n",
    "    'october': 3.5,\n",
    "    'november': 4.2,\n",
    "    'december': 2.1\n",
    "}\n",
    "\n",
    "\n",
    "if 'december' in rainfall:\n",
    "    rainfall['december'] = rainfall['december'] + 1\n",
    "else:\n",
    "    rainfall['december'] = 1\n",
    "\n",
    "    #Total de precipitaciones 0\n",
    "total_rainfall = 0\n",
    "\n",
    "for value in rainfall.values():\n",
    "    \n",
    "    # El total de las precipitaciones será igual a ese mismo + el valor que se está iterando\n",
    "\n",
    "    total_rainfall = total_rainfall + value\n",
    "\n",
    "# Muestra 'Hay un total de precipitaciones (el valor total) en centímetros en el último cuarto (haciendo referencia al cuarto del año)\n",
    "\n",
    "print(f'There was {total_rainfall}cm in the last quarter')\n",
    "\n"
   ]
  },
  {
   "cell_type": "code",
   "execution_count": 7,
   "metadata": {},
   "outputs": [
    {
     "name": "stdout",
     "output_type": "stream",
     "text": [
      "el planteta Mars tiene 2 lunas\n",
      " el planeta Mars tiene una circunferencia polar de 6752\n"
     ]
    }
   ],
   "source": [
    "#kata\n",
    "\n",
    "planet = {\n",
    "    'name' : 'Mars',\n",
    "    'moons': 2   \n",
    "}\n",
    "\n",
    "print(f\"el planteta {planet.get('name')} tiene {planet.get('moons')} lunas\")\n",
    "\n",
    "planet['circunferencia (km)'] = {\n",
    "    'polar': 6752,\n",
    "    'equatorial': 6792\n",
    "}\n",
    "\n",
    "print(f\" el planeta {planet['name']} tiene una circunferencia polar de {planet['circunferencia (km)']['polar']}\")"
   ]
  },
  {
   "cell_type": "code",
   "execution_count": 20,
   "metadata": {},
   "outputs": [
    {
     "name": "stdout",
     "output_type": "stream",
     "text": [
      "214\n",
      "12\n",
      "El promedio de lunas es 17.833333333333332\n"
     ]
    }
   ],
   "source": [
    "planet_moons = {\n",
    "    'mercury': 0,\n",
    "    'venus': 0,\n",
    "    'earth': 1,\n",
    "    'mars': 2,\n",
    "    'jupiter': 79,\n",
    "    'saturn': 82,\n",
    "    'uranus': 27,\n",
    "    'neptune': 14,\n",
    "    'pluto': 5,\n",
    "    'haumea': 2,\n",
    "    'makemake': 1,\n",
    "    'eris': 1\n",
    "}\n",
    "moons = 0\n",
    "#moons = planet_moons.values()\n",
    "planets = 0\n",
    "\n",
    "for valor in planet_moons.values():\n",
    "    moons += valor\n",
    "\n",
    "\n",
    "print(moons)\n",
    "\n",
    "planets = len(planet_moons.keys())\n",
    "\n",
    "promedio =  moons / planets\n",
    "\n",
    "print(planets)\n",
    "print(f\"El promedio de lunas es {promedio}\")\n"
   ]
  }
 ],
 "metadata": {
  "interpreter": {
   "hash": "ae53e25975dfc55c7236fd2cdb84ddf062112a312e39b4754a9918b3b7e36fe4"
  },
  "kernelspec": {
   "display_name": "Python 3.10.2 64-bit (windows store)",
   "language": "python",
   "name": "python3"
  },
  "language_info": {
   "codemirror_mode": {
    "name": "ipython",
    "version": 3
   },
   "file_extension": ".py",
   "mimetype": "text/x-python",
   "name": "python",
   "nbconvert_exporter": "python",
   "pygments_lexer": "ipython3",
   "version": "3.10.2"
  },
  "orig_nbformat": 4
 },
 "nbformat": 4,
 "nbformat_minor": 2
}
