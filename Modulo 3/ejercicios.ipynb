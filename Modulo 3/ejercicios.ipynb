{
 "cells": [
  {
   "cell_type": "code",
   "execution_count": 44,
   "metadata": {},
   "outputs": [
    {
     "name": "stdout",
     "output_type": "stream",
     "text": [
      "Advertencia!! un asteroide se dirige a toda velocidad a la tierra\n"
     ]
    }
   ],
   "source": [
    "velAsteroide = 49\n",
    "\n",
    "if velAsteroide > 25:\n",
    "    print(\"Advertencia!! un asteroide se dirige a toda velocidad a la tierra\")\n",
    "else:\n",
    "    print(\"Todo sereno\")"
   ]
  },
  {
   "cell_type": "code",
   "execution_count": 51,
   "metadata": {},
   "outputs": [
    {
     "name": "stdout",
     "output_type": "stream",
     "text": [
      "Se ve una luz en el cielo!!\n"
     ]
    }
   ],
   "source": [
    "velAsteroide = 21\n",
    "\n",
    "if velAsteroide > 20:\n",
    "    print(\"Se ve una luz en el cielo!!\")\n",
    "elif velAsteroide == 20:\n",
    "    print(\"Miren, Se ve una luz en el cielo!!\")\n",
    "else:\n",
    "    print(\"todo sereno\")"
   ]
  },
  {
   "cell_type": "code",
   "execution_count": 58,
   "metadata": {},
   "outputs": [
    {
     "name": "stdout",
     "output_type": "stream",
     "text": [
      "miren, se ve como un cometa en el cielo!!\n"
     ]
    }
   ],
   "source": [
    "velAsteroide = 25\n",
    "tamanioAsteroide = 40\n",
    "if velAsteroide > 25 and tamanioAsteroide > 25:\n",
    "    print(\"Alerta!!, un asteroide gigante se dirige a la tierra!! corran!!\")\n",
    "elif velAsteroide >= 20:\n",
    "    print(\"miren, se ve como un cometa en el cielo!!\")\n",
    "else:\n",
    "    print(\"todo sereno\")"
   ]
  }
 ],
 "metadata": {
  "interpreter": {
   "hash": "1aab373dcc75818befac4d2e08b132704e8f15ede6fa4b0f424a06ec58d056aa"
  },
  "kernelspec": {
   "display_name": "Python 3.10.2 64-bit",
   "language": "python",
   "name": "python3"
  },
  "language_info": {
   "codemirror_mode": {
    "name": "ipython",
    "version": 3
   },
   "file_extension": ".py",
   "mimetype": "text/x-python",
   "name": "python",
   "nbconvert_exporter": "python",
   "pygments_lexer": "ipython3",
   "version": "3.10.2"
  },
  "orig_nbformat": 4
 },
 "nbformat": 4,
 "nbformat_minor": 2
}
