{
 "cells": [
  {
   "cell_type": "code",
   "execution_count": 36,
   "metadata": {},
   "outputs": [
    {
     "name": "stdout",
     "output_type": "stream",
     "text": [
      "628949330\n",
      "390577534\n"
     ]
    }
   ],
   "source": [
    "distancia_planeta1 = 149597870\n",
    "distancia_planeta2 = 778547200\n",
    "\n",
    "distancia_planetas_km =  distancia_planeta2 - distancia_planeta1\n",
    "distancia_planetas_millas = distancia_planetas_km * 0.621\n",
    "\n",
    "print(distancia_planetas_km)\n",
    "print(round(distancia_planetas_millas))"
   ]
  },
  {
   "cell_type": "code",
   "execution_count": 34,
   "metadata": {},
   "outputs": [
    {
     "name": "stdout",
     "output_type": "stream",
     "text": [
      "50300000\n",
      "31236300\n"
     ]
    }
   ],
   "source": [
    "distancia_planeta1 = input(\"¿Cuál es la distancia a planeta 1?\")\n",
    "distancia_planeta2 = input(\"¿Cuál es la distancia a planeta 2?\")\n",
    "\n",
    "distancia_planeta1 = int(distancia_planeta1)\n",
    "distancia_planeta2 = int(distancia_planeta2)\n",
    "\n",
    "distancia_planetas_km =  distancia_planeta1 - distancia_planeta2\n",
    "distancia_planetas_millas = distancia_planetas_km * 0.621\n",
    "\n",
    "print(abs(round(distancia_planetas_km)))\n",
    "print(abs(round(distancia_planetas_millas)))\n",
    "\n",
    "\n"
   ]
  }
 ],
 "metadata": {
  "interpreter": {
   "hash": "669f5abd92f1a410df15b0643b9f42360e277a412fc08ae8bc7d7911cf7e8f3d"
  },
  "kernelspec": {
   "display_name": "Python 3.10.2 64-bit",
   "language": "python",
   "name": "python3"
  },
  "language_info": {
   "codemirror_mode": {
    "name": "ipython",
    "version": 3
   },
   "file_extension": ".py",
   "mimetype": "text/x-python",
   "name": "python",
   "nbconvert_exporter": "python",
   "pygments_lexer": "ipython3",
   "version": "3.10.2"
  },
  "orig_nbformat": 4
 },
 "nbformat": 4,
 "nbformat_minor": 2
}
