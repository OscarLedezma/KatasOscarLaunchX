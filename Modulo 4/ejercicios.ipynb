{
 "cells": [
  {
   "cell_type": "code",
   "execution_count": 83,
   "metadata": {},
   "outputs": [
    {
     "name": "stdout",
     "output_type": "stream",
     "text": [
      " \n",
      "On average, the Moon moves 4cm away from the Earth every year\n",
      " The highest daylight temperature of the Moon is 127 C\n",
      " \n",
      "On average, the Moon moves 4cm away from the Earth every year\n",
      " The highest daylight temperature of the Moon is 127 Celsius\n"
     ]
    }
   ],
   "source": [
    "text = \"\"\"Interesting facts about the Moon. The Moon is Earth's only satellite. There are several interesting facts about the Moon and how it affects life here on Earth. \n",
    "On average, the Moon moves 4cm away from the Earth every year. This yearly drift is not significant enough to cause immediate effects on Earth. The highest daylight temperature of the Moon is 127 C.\"\"\"\n",
    "\n",
    "partes_texto = text.split('.')\n",
    "\n",
    "palabras_clave = [\"average\", \"temperature\", \"distance\"]\n",
    "\n",
    "#print(text.split('.'))\n",
    "\n",
    "for item in partes_texto:\n",
    "    for palabras in palabras_clave:\n",
    "        if palabras in item:\n",
    "            print(item)\n",
    "\n",
    "\n",
    "for item in partes_texto:\n",
    "    for palabras in palabras_clave:\n",
    "        if palabras in item:\n",
    "            print(item.replace('C','Celsius'))\n",
    "        "
   ]
  },
  {
   "cell_type": "code",
   "execution_count": 110,
   "metadata": {},
   "outputs": [
    {
     "name": "stdout",
     "output_type": "stream",
     "text": [
      "Gravity Facts About Earth\n",
      "------------------------------------\n",
      "Planet Name = Moon\n",
      "Gravity on Earth: 0.00162 m/s2\n"
     ]
    }
   ],
   "source": [
    "# Datos con los que vas a trabajar\n",
    "name = \"Moon\"\n",
    "gravity = 0.00162 # in kms\n",
    "planet = \"Earth\"\n",
    "\n",
    "titulo = f'gravity facts about {planet}'.title()\n",
    "\n",
    "plantilla = f\"{titulo}\\n------------------------------------\\nPlanet Name = {name}\\nGravity on {planet}: {gravity} m/s2\"\n",
    "\n",
    "print(plantilla)\n"
   ]
  }
 ],
 "metadata": {
  "interpreter": {
   "hash": "ae53e25975dfc55c7236fd2cdb84ddf062112a312e39b4754a9918b3b7e36fe4"
  },
  "kernelspec": {
   "display_name": "Python 3.10.2 64-bit (windows store)",
   "language": "python",
   "name": "python3"
  },
  "language_info": {
   "codemirror_mode": {
    "name": "ipython",
    "version": 3
   },
   "file_extension": ".py",
   "mimetype": "text/x-python",
   "name": "python",
   "nbconvert_exporter": "python",
   "pygments_lexer": "ipython3",
   "version": "3.10.2"
  },
  "orig_nbformat": 4
 },
 "nbformat": 4,
 "nbformat_minor": 2
}
